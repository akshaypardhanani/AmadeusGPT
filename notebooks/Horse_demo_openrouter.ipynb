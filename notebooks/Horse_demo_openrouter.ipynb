{
 "cells": [
  {
   "cell_type": "markdown",
   "id": "649a7dd7",
   "metadata": {},
   "source": [
    "# AmadeusGPT Demo: Horse Gait Analysis\n",
    "\n",
    "- please get an openAI user key: https://platform.openai.com/api-keys.\n",
    "- We suggest to run the demos locally, but it can be viewed on Google Colab. Some interactive features might not be available."
   ]
  },
  {
   "cell_type": "code",
   "execution_count": 1,
   "id": "80877a1a",
   "metadata": {},
   "outputs": [
    {
     "name": "stdout",
     "output_type": "stream",
     "text": [
      "Requirement already satisfied: amadeusgpt in /Users/akshaypardhanani/Desktop/python-projects/AmadeusGPT/.venv/lib/python3.11/site-packages (0.1.3)\n",
      "Requirement already satisfied: cachetools>=6.1.0 in /Users/akshaypardhanani/Desktop/python-projects/AmadeusGPT/.venv/lib/python3.11/site-packages (from amadeusgpt) (6.1.0)\n",
      "Requirement already satisfied: cebra>=0.4.0 in /Users/akshaypardhanani/Desktop/python-projects/AmadeusGPT/.venv/lib/python3.11/site-packages (from amadeusgpt) (0.5.0)\n",
      "Requirement already satisfied: gitingest>=0.3.1 in /Users/akshaypardhanani/Desktop/python-projects/AmadeusGPT/.venv/lib/python3.11/site-packages (from amadeusgpt) (0.3.1)\n",
      "Requirement already satisfied: h5py>=3.14.0 in /Users/akshaypardhanani/Desktop/python-projects/AmadeusGPT/.venv/lib/python3.11/site-packages (from amadeusgpt) (3.14.0)\n",
      "Requirement already satisfied: ipympl>=0.9.7 in /Users/akshaypardhanani/Desktop/python-projects/AmadeusGPT/.venv/lib/python3.11/site-packages (from amadeusgpt) (0.9.7)\n",
      "Requirement already satisfied: jupyter>=1.1.1 in /Users/akshaypardhanani/Desktop/python-projects/AmadeusGPT/.venv/lib/python3.11/site-packages (from amadeusgpt) (1.1.1)\n",
      "Requirement already satisfied: matplotlib<3.9 in /Users/akshaypardhanani/Desktop/python-projects/AmadeusGPT/.venv/lib/python3.11/site-packages (from amadeusgpt) (3.8.4)\n",
      "Requirement already satisfied: openai>=1.0 in /Users/akshaypardhanani/Desktop/python-projects/AmadeusGPT/.venv/lib/python3.11/site-packages (from amadeusgpt) (1.98.0)\n",
      "Requirement already satisfied: opencv-python-headless>=4.11.0.86 in /Users/akshaypardhanani/Desktop/python-projects/AmadeusGPT/.venv/lib/python3.11/site-packages (from amadeusgpt) (4.12.0.88)\n",
      "Requirement already satisfied: pyyaml>=6.0.2 in /Users/akshaypardhanani/Desktop/python-projects/AmadeusGPT/.venv/lib/python3.11/site-packages (from amadeusgpt) (6.0.2)\n",
      "Requirement already satisfied: sentence-transformers>=5.1.0 in /Users/akshaypardhanani/Desktop/python-projects/AmadeusGPT/.venv/lib/python3.11/site-packages (from amadeusgpt) (5.1.0)\n",
      "Requirement already satisfied: streamlit>=1.26.0 in /Users/akshaypardhanani/Desktop/python-projects/AmadeusGPT/.venv/lib/python3.11/site-packages (from amadeusgpt) (1.47.1)\n",
      "Requirement already satisfied: streamlit-drawable-canvas==0.9.2 in /Users/akshaypardhanani/Desktop/python-projects/AmadeusGPT/.venv/lib/python3.11/site-packages (from amadeusgpt) (0.9.2)\n",
      "Requirement already satisfied: tables>=3.10.1 in /Users/akshaypardhanani/Desktop/python-projects/AmadeusGPT/.venv/lib/python3.11/site-packages (from amadeusgpt) (3.10.2)\n",
      "Requirement already satisfied: umap-learn>=0.5.9.post2 in /Users/akshaypardhanani/Desktop/python-projects/AmadeusGPT/.venv/lib/python3.11/site-packages (from amadeusgpt) (0.5.9.post2)\n",
      "Requirement already satisfied: Pillow in /Users/akshaypardhanani/Desktop/python-projects/AmadeusGPT/.venv/lib/python3.11/site-packages (from streamlit-drawable-canvas==0.9.2->amadeusgpt) (11.3.0)\n",
      "Requirement already satisfied: numpy in /Users/akshaypardhanani/Desktop/python-projects/AmadeusGPT/.venv/lib/python3.11/site-packages (from streamlit-drawable-canvas==0.9.2->amadeusgpt) (2.2.6)\n",
      "Requirement already satisfied: contourpy>=1.0.1 in /Users/akshaypardhanani/Desktop/python-projects/AmadeusGPT/.venv/lib/python3.11/site-packages (from matplotlib<3.9->amadeusgpt) (1.3.3)\n",
      "Requirement already satisfied: cycler>=0.10 in /Users/akshaypardhanani/Desktop/python-projects/AmadeusGPT/.venv/lib/python3.11/site-packages (from matplotlib<3.9->amadeusgpt) (0.12.1)\n",
      "Requirement already satisfied: fonttools>=4.22.0 in /Users/akshaypardhanani/Desktop/python-projects/AmadeusGPT/.venv/lib/python3.11/site-packages (from matplotlib<3.9->amadeusgpt) (4.59.0)\n",
      "Requirement already satisfied: kiwisolver>=1.3.1 in /Users/akshaypardhanani/Desktop/python-projects/AmadeusGPT/.venv/lib/python3.11/site-packages (from matplotlib<3.9->amadeusgpt) (1.4.8)\n",
      "Requirement already satisfied: packaging>=20.0 in /Users/akshaypardhanani/Desktop/python-projects/AmadeusGPT/.venv/lib/python3.11/site-packages (from matplotlib<3.9->amadeusgpt) (25.0)\n",
      "Requirement already satisfied: pyparsing>=2.3.1 in /Users/akshaypardhanani/Desktop/python-projects/AmadeusGPT/.venv/lib/python3.11/site-packages (from matplotlib<3.9->amadeusgpt) (3.2.3)\n",
      "Requirement already satisfied: python-dateutil>=2.7 in /Users/akshaypardhanani/Desktop/python-projects/AmadeusGPT/.venv/lib/python3.11/site-packages (from matplotlib<3.9->amadeusgpt) (2.9.0.post0)\n",
      "Requirement already satisfied: joblib in /Users/akshaypardhanani/Desktop/python-projects/AmadeusGPT/.venv/lib/python3.11/site-packages (from cebra>=0.4.0->amadeusgpt) (1.5.1)\n",
      "Requirement already satisfied: literate-dataclasses in /Users/akshaypardhanani/Desktop/python-projects/AmadeusGPT/.venv/lib/python3.11/site-packages (from cebra>=0.4.0->amadeusgpt) (0.0.6)\n",
      "Requirement already satisfied: scikit-learn in /Users/akshaypardhanani/Desktop/python-projects/AmadeusGPT/.venv/lib/python3.11/site-packages (from cebra>=0.4.0->amadeusgpt) (1.7.1)\n",
      "Requirement already satisfied: scipy in /Users/akshaypardhanani/Desktop/python-projects/AmadeusGPT/.venv/lib/python3.11/site-packages (from cebra>=0.4.0->amadeusgpt) (1.16.1)\n",
      "Requirement already satisfied: torch>=2.4.0 in /Users/akshaypardhanani/Desktop/python-projects/AmadeusGPT/.venv/lib/python3.11/site-packages (from cebra>=0.4.0->amadeusgpt) (2.7.1)\n",
      "Requirement already satisfied: tqdm in /Users/akshaypardhanani/Desktop/python-projects/AmadeusGPT/.venv/lib/python3.11/site-packages (from cebra>=0.4.0->amadeusgpt) (4.67.1)\n",
      "Requirement already satisfied: requests in /Users/akshaypardhanani/Desktop/python-projects/AmadeusGPT/.venv/lib/python3.11/site-packages (from cebra>=0.4.0->amadeusgpt) (2.32.4)\n",
      "Requirement already satisfied: click>=8.0.0 in /Users/akshaypardhanani/Desktop/python-projects/AmadeusGPT/.venv/lib/python3.11/site-packages (from gitingest>=0.3.1->amadeusgpt) (8.2.1)\n",
      "Requirement already satisfied: httpx in /Users/akshaypardhanani/Desktop/python-projects/AmadeusGPT/.venv/lib/python3.11/site-packages (from gitingest>=0.3.1->amadeusgpt) (0.28.1)\n",
      "Requirement already satisfied: loguru>=0.7.0 in /Users/akshaypardhanani/Desktop/python-projects/AmadeusGPT/.venv/lib/python3.11/site-packages (from gitingest>=0.3.1->amadeusgpt) (0.7.3)\n",
      "Requirement already satisfied: pathspec>=0.12.1 in /Users/akshaypardhanani/Desktop/python-projects/AmadeusGPT/.venv/lib/python3.11/site-packages (from gitingest>=0.3.1->amadeusgpt) (0.12.1)\n",
      "Requirement already satisfied: pydantic in /Users/akshaypardhanani/Desktop/python-projects/AmadeusGPT/.venv/lib/python3.11/site-packages (from gitingest>=0.3.1->amadeusgpt) (2.11.7)\n",
      "Requirement already satisfied: python-dotenv in /Users/akshaypardhanani/Desktop/python-projects/AmadeusGPT/.venv/lib/python3.11/site-packages (from gitingest>=0.3.1->amadeusgpt) (1.1.1)\n",
      "Requirement already satisfied: starlette>=0.40.0 in /Users/akshaypardhanani/Desktop/python-projects/AmadeusGPT/.venv/lib/python3.11/site-packages (from gitingest>=0.3.1->amadeusgpt) (0.47.2)\n",
      "Requirement already satisfied: tiktoken>=0.7.0 in /Users/akshaypardhanani/Desktop/python-projects/AmadeusGPT/.venv/lib/python3.11/site-packages (from gitingest>=0.3.1->amadeusgpt) (0.9.0)\n",
      "Requirement already satisfied: ipython<10 in /Users/akshaypardhanani/Desktop/python-projects/AmadeusGPT/.venv/lib/python3.11/site-packages (from ipympl>=0.9.7->amadeusgpt) (9.4.0)\n",
      "Requirement already satisfied: ipywidgets<9,>=7.6.0 in /Users/akshaypardhanani/Desktop/python-projects/AmadeusGPT/.venv/lib/python3.11/site-packages (from ipympl>=0.9.7->amadeusgpt) (8.1.7)\n",
      "Requirement already satisfied: traitlets<6 in /Users/akshaypardhanani/Desktop/python-projects/AmadeusGPT/.venv/lib/python3.11/site-packages (from ipympl>=0.9.7->amadeusgpt) (5.14.3)\n",
      "Requirement already satisfied: decorator in /Users/akshaypardhanani/Desktop/python-projects/AmadeusGPT/.venv/lib/python3.11/site-packages (from ipython<10->ipympl>=0.9.7->amadeusgpt) (5.2.1)\n",
      "Requirement already satisfied: ipython-pygments-lexers in /Users/akshaypardhanani/Desktop/python-projects/AmadeusGPT/.venv/lib/python3.11/site-packages (from ipython<10->ipympl>=0.9.7->amadeusgpt) (1.1.1)\n",
      "Requirement already satisfied: jedi>=0.16 in /Users/akshaypardhanani/Desktop/python-projects/AmadeusGPT/.venv/lib/python3.11/site-packages (from ipython<10->ipympl>=0.9.7->amadeusgpt) (0.19.2)\n",
      "Requirement already satisfied: matplotlib-inline in /Users/akshaypardhanani/Desktop/python-projects/AmadeusGPT/.venv/lib/python3.11/site-packages (from ipython<10->ipympl>=0.9.7->amadeusgpt) (0.1.7)\n",
      "Requirement already satisfied: pexpect>4.3 in /Users/akshaypardhanani/Desktop/python-projects/AmadeusGPT/.venv/lib/python3.11/site-packages (from ipython<10->ipympl>=0.9.7->amadeusgpt) (4.9.0)\n",
      "Requirement already satisfied: prompt_toolkit<3.1.0,>=3.0.41 in /Users/akshaypardhanani/Desktop/python-projects/AmadeusGPT/.venv/lib/python3.11/site-packages (from ipython<10->ipympl>=0.9.7->amadeusgpt) (3.0.51)\n",
      "Requirement already satisfied: pygments>=2.4.0 in /Users/akshaypardhanani/Desktop/python-projects/AmadeusGPT/.venv/lib/python3.11/site-packages (from ipython<10->ipympl>=0.9.7->amadeusgpt) (2.19.2)\n",
      "Requirement already satisfied: stack_data in /Users/akshaypardhanani/Desktop/python-projects/AmadeusGPT/.venv/lib/python3.11/site-packages (from ipython<10->ipympl>=0.9.7->amadeusgpt) (0.6.3)\n",
      "Requirement already satisfied: typing_extensions>=4.6 in /Users/akshaypardhanani/Desktop/python-projects/AmadeusGPT/.venv/lib/python3.11/site-packages (from ipython<10->ipympl>=0.9.7->amadeusgpt) (4.14.1)\n",
      "Requirement already satisfied: comm>=0.1.3 in /Users/akshaypardhanani/Desktop/python-projects/AmadeusGPT/.venv/lib/python3.11/site-packages (from ipywidgets<9,>=7.6.0->ipympl>=0.9.7->amadeusgpt) (0.2.3)\n",
      "Requirement already satisfied: widgetsnbextension~=4.0.14 in /Users/akshaypardhanani/Desktop/python-projects/AmadeusGPT/.venv/lib/python3.11/site-packages (from ipywidgets<9,>=7.6.0->ipympl>=0.9.7->amadeusgpt) (4.0.14)\n",
      "Requirement already satisfied: jupyterlab_widgets~=3.0.15 in /Users/akshaypardhanani/Desktop/python-projects/AmadeusGPT/.venv/lib/python3.11/site-packages (from ipywidgets<9,>=7.6.0->ipympl>=0.9.7->amadeusgpt) (3.0.15)\n",
      "Requirement already satisfied: wcwidth in /Users/akshaypardhanani/Desktop/python-projects/AmadeusGPT/.venv/lib/python3.11/site-packages (from prompt_toolkit<3.1.0,>=3.0.41->ipython<10->ipympl>=0.9.7->amadeusgpt) (0.2.13)\n",
      "Requirement already satisfied: parso<0.9.0,>=0.8.4 in /Users/akshaypardhanani/Desktop/python-projects/AmadeusGPT/.venv/lib/python3.11/site-packages (from jedi>=0.16->ipython<10->ipympl>=0.9.7->amadeusgpt) (0.8.4)\n",
      "Requirement already satisfied: notebook in /Users/akshaypardhanani/Desktop/python-projects/AmadeusGPT/.venv/lib/python3.11/site-packages (from jupyter>=1.1.1->amadeusgpt) (7.4.4)\n",
      "Requirement already satisfied: jupyter-console in /Users/akshaypardhanani/Desktop/python-projects/AmadeusGPT/.venv/lib/python3.11/site-packages (from jupyter>=1.1.1->amadeusgpt) (6.6.3)\n",
      "Requirement already satisfied: nbconvert in /Users/akshaypardhanani/Desktop/python-projects/AmadeusGPT/.venv/lib/python3.11/site-packages (from jupyter>=1.1.1->amadeusgpt) (7.16.6)\n",
      "Requirement already satisfied: ipykernel in /Users/akshaypardhanani/Desktop/python-projects/AmadeusGPT/.venv/lib/python3.11/site-packages (from jupyter>=1.1.1->amadeusgpt) (6.30.1)\n",
      "Requirement already satisfied: jupyterlab in /Users/akshaypardhanani/Desktop/python-projects/AmadeusGPT/.venv/lib/python3.11/site-packages (from jupyter>=1.1.1->amadeusgpt) (4.4.5)\n",
      "Requirement already satisfied: anyio<5,>=3.5.0 in /Users/akshaypardhanani/Desktop/python-projects/AmadeusGPT/.venv/lib/python3.11/site-packages (from openai>=1.0->amadeusgpt) (4.10.0)\n",
      "Requirement already satisfied: distro<2,>=1.7.0 in /Users/akshaypardhanani/Desktop/python-projects/AmadeusGPT/.venv/lib/python3.11/site-packages (from openai>=1.0->amadeusgpt) (1.9.0)\n",
      "Requirement already satisfied: jiter<1,>=0.4.0 in /Users/akshaypardhanani/Desktop/python-projects/AmadeusGPT/.venv/lib/python3.11/site-packages (from openai>=1.0->amadeusgpt) (0.10.0)\n",
      "Requirement already satisfied: sniffio in /Users/akshaypardhanani/Desktop/python-projects/AmadeusGPT/.venv/lib/python3.11/site-packages (from openai>=1.0->amadeusgpt) (1.3.1)\n",
      "Requirement already satisfied: idna>=2.8 in /Users/akshaypardhanani/Desktop/python-projects/AmadeusGPT/.venv/lib/python3.11/site-packages (from anyio<5,>=3.5.0->openai>=1.0->amadeusgpt) (3.10)\n",
      "Requirement already satisfied: certifi in /Users/akshaypardhanani/Desktop/python-projects/AmadeusGPT/.venv/lib/python3.11/site-packages (from httpx->gitingest>=0.3.1->amadeusgpt) (2025.8.3)\n",
      "Requirement already satisfied: httpcore==1.* in /Users/akshaypardhanani/Desktop/python-projects/AmadeusGPT/.venv/lib/python3.11/site-packages (from httpx->gitingest>=0.3.1->amadeusgpt) (1.0.9)\n",
      "Requirement already satisfied: h11>=0.16 in /Users/akshaypardhanani/Desktop/python-projects/AmadeusGPT/.venv/lib/python3.11/site-packages (from httpcore==1.*->httpx->gitingest>=0.3.1->amadeusgpt) (0.16.0)\n",
      "Requirement already satisfied: annotated-types>=0.6.0 in /Users/akshaypardhanani/Desktop/python-projects/AmadeusGPT/.venv/lib/python3.11/site-packages (from pydantic->gitingest>=0.3.1->amadeusgpt) (0.7.0)\n",
      "Requirement already satisfied: pydantic-core==2.33.2 in /Users/akshaypardhanani/Desktop/python-projects/AmadeusGPT/.venv/lib/python3.11/site-packages (from pydantic->gitingest>=0.3.1->amadeusgpt) (2.33.2)\n",
      "Requirement already satisfied: typing-inspection>=0.4.0 in /Users/akshaypardhanani/Desktop/python-projects/AmadeusGPT/.venv/lib/python3.11/site-packages (from pydantic->gitingest>=0.3.1->amadeusgpt) (0.4.1)\n",
      "Requirement already satisfied: ptyprocess>=0.5 in /Users/akshaypardhanani/Desktop/python-projects/AmadeusGPT/.venv/lib/python3.11/site-packages (from pexpect>4.3->ipython<10->ipympl>=0.9.7->amadeusgpt) (0.7.0)\n",
      "Requirement already satisfied: six>=1.5 in /Users/akshaypardhanani/Desktop/python-projects/AmadeusGPT/.venv/lib/python3.11/site-packages (from python-dateutil>=2.7->matplotlib<3.9->amadeusgpt) (1.17.0)\n",
      "Requirement already satisfied: transformers<5.0.0,>=4.41.0 in /Users/akshaypardhanani/Desktop/python-projects/AmadeusGPT/.venv/lib/python3.11/site-packages (from sentence-transformers>=5.1.0->amadeusgpt) (4.55.0)\n",
      "Requirement already satisfied: huggingface-hub>=0.20.0 in /Users/akshaypardhanani/Desktop/python-projects/AmadeusGPT/.venv/lib/python3.11/site-packages (from sentence-transformers>=5.1.0->amadeusgpt) (0.34.4)\n",
      "Requirement already satisfied: filelock in /Users/akshaypardhanani/Desktop/python-projects/AmadeusGPT/.venv/lib/python3.11/site-packages (from transformers<5.0.0,>=4.41.0->sentence-transformers>=5.1.0->amadeusgpt) (3.18.0)\n",
      "Requirement already satisfied: regex!=2019.12.17 in /Users/akshaypardhanani/Desktop/python-projects/AmadeusGPT/.venv/lib/python3.11/site-packages (from transformers<5.0.0,>=4.41.0->sentence-transformers>=5.1.0->amadeusgpt) (2025.7.34)\n",
      "Requirement already satisfied: tokenizers<0.22,>=0.21 in /Users/akshaypardhanani/Desktop/python-projects/AmadeusGPT/.venv/lib/python3.11/site-packages (from transformers<5.0.0,>=4.41.0->sentence-transformers>=5.1.0->amadeusgpt) (0.21.4)\n",
      "Requirement already satisfied: safetensors>=0.4.3 in /Users/akshaypardhanani/Desktop/python-projects/AmadeusGPT/.venv/lib/python3.11/site-packages (from transformers<5.0.0,>=4.41.0->sentence-transformers>=5.1.0->amadeusgpt) (0.6.2)\n",
      "Requirement already satisfied: fsspec>=2023.5.0 in /Users/akshaypardhanani/Desktop/python-projects/AmadeusGPT/.venv/lib/python3.11/site-packages (from huggingface-hub>=0.20.0->sentence-transformers>=5.1.0->amadeusgpt) (2025.7.0)\n",
      "Requirement already satisfied: hf-xet<2.0.0,>=1.1.3 in /Users/akshaypardhanani/Desktop/python-projects/AmadeusGPT/.venv/lib/python3.11/site-packages (from huggingface-hub>=0.20.0->sentence-transformers>=5.1.0->amadeusgpt) (1.1.7)\n",
      "Requirement already satisfied: altair<6,>=4.0 in /Users/akshaypardhanani/Desktop/python-projects/AmadeusGPT/.venv/lib/python3.11/site-packages (from streamlit>=1.26.0->amadeusgpt) (5.5.0)\n",
      "Requirement already satisfied: blinker<2,>=1.5.0 in /Users/akshaypardhanani/Desktop/python-projects/AmadeusGPT/.venv/lib/python3.11/site-packages (from streamlit>=1.26.0->amadeusgpt) (1.9.0)\n",
      "Requirement already satisfied: pandas<3,>=1.4.0 in /Users/akshaypardhanani/Desktop/python-projects/AmadeusGPT/.venv/lib/python3.11/site-packages (from streamlit>=1.26.0->amadeusgpt) (2.3.1)\n",
      "Requirement already satisfied: protobuf<7,>=3.20 in /Users/akshaypardhanani/Desktop/python-projects/AmadeusGPT/.venv/lib/python3.11/site-packages (from streamlit>=1.26.0->amadeusgpt) (6.31.1)\n",
      "Requirement already satisfied: pyarrow>=7.0 in /Users/akshaypardhanani/Desktop/python-projects/AmadeusGPT/.venv/lib/python3.11/site-packages (from streamlit>=1.26.0->amadeusgpt) (21.0.0)\n",
      "Requirement already satisfied: tenacity<10,>=8.1.0 in /Users/akshaypardhanani/Desktop/python-projects/AmadeusGPT/.venv/lib/python3.11/site-packages (from streamlit>=1.26.0->amadeusgpt) (9.1.2)\n",
      "Requirement already satisfied: toml<2,>=0.10.1 in /Users/akshaypardhanani/Desktop/python-projects/AmadeusGPT/.venv/lib/python3.11/site-packages (from streamlit>=1.26.0->amadeusgpt) (0.10.2)\n",
      "Requirement already satisfied: gitpython!=3.1.19,<4,>=3.0.7 in /Users/akshaypardhanani/Desktop/python-projects/AmadeusGPT/.venv/lib/python3.11/site-packages (from streamlit>=1.26.0->amadeusgpt) (3.1.45)\n",
      "Requirement already satisfied: pydeck<1,>=0.8.0b4 in /Users/akshaypardhanani/Desktop/python-projects/AmadeusGPT/.venv/lib/python3.11/site-packages (from streamlit>=1.26.0->amadeusgpt) (0.9.1)\n",
      "Requirement already satisfied: tornado!=6.5.0,<7,>=6.0.3 in /Users/akshaypardhanani/Desktop/python-projects/AmadeusGPT/.venv/lib/python3.11/site-packages (from streamlit>=1.26.0->amadeusgpt) (6.5.1)\n",
      "Requirement already satisfied: jinja2 in /Users/akshaypardhanani/Desktop/python-projects/AmadeusGPT/.venv/lib/python3.11/site-packages (from altair<6,>=4.0->streamlit>=1.26.0->amadeusgpt) (3.1.6)\n",
      "Requirement already satisfied: jsonschema>=3.0 in /Users/akshaypardhanani/Desktop/python-projects/AmadeusGPT/.venv/lib/python3.11/site-packages (from altair<6,>=4.0->streamlit>=1.26.0->amadeusgpt) (4.25.0)\n",
      "Requirement already satisfied: narwhals>=1.14.2 in /Users/akshaypardhanani/Desktop/python-projects/AmadeusGPT/.venv/lib/python3.11/site-packages (from altair<6,>=4.0->streamlit>=1.26.0->amadeusgpt) (2.0.1)\n",
      "Requirement already satisfied: gitdb<5,>=4.0.1 in /Users/akshaypardhanani/Desktop/python-projects/AmadeusGPT/.venv/lib/python3.11/site-packages (from gitpython!=3.1.19,<4,>=3.0.7->streamlit>=1.26.0->amadeusgpt) (4.0.12)\n",
      "Requirement already satisfied: smmap<6,>=3.0.1 in /Users/akshaypardhanani/Desktop/python-projects/AmadeusGPT/.venv/lib/python3.11/site-packages (from gitdb<5,>=4.0.1->gitpython!=3.1.19,<4,>=3.0.7->streamlit>=1.26.0->amadeusgpt) (5.0.2)\n",
      "Requirement already satisfied: pytz>=2020.1 in /Users/akshaypardhanani/Desktop/python-projects/AmadeusGPT/.venv/lib/python3.11/site-packages (from pandas<3,>=1.4.0->streamlit>=1.26.0->amadeusgpt) (2025.2)\n",
      "Requirement already satisfied: tzdata>=2022.7 in /Users/akshaypardhanani/Desktop/python-projects/AmadeusGPT/.venv/lib/python3.11/site-packages (from pandas<3,>=1.4.0->streamlit>=1.26.0->amadeusgpt) (2025.2)\n",
      "Requirement already satisfied: charset_normalizer<4,>=2 in /Users/akshaypardhanani/Desktop/python-projects/AmadeusGPT/.venv/lib/python3.11/site-packages (from requests->cebra>=0.4.0->amadeusgpt) (3.4.2)\n",
      "Requirement already satisfied: urllib3<3,>=1.21.1 in /Users/akshaypardhanani/Desktop/python-projects/AmadeusGPT/.venv/lib/python3.11/site-packages (from requests->cebra>=0.4.0->amadeusgpt) (2.5.0)\n",
      "Requirement already satisfied: MarkupSafe>=2.0 in /Users/akshaypardhanani/Desktop/python-projects/AmadeusGPT/.venv/lib/python3.11/site-packages (from jinja2->altair<6,>=4.0->streamlit>=1.26.0->amadeusgpt) (3.0.2)\n",
      "Requirement already satisfied: attrs>=22.2.0 in /Users/akshaypardhanani/Desktop/python-projects/AmadeusGPT/.venv/lib/python3.11/site-packages (from jsonschema>=3.0->altair<6,>=4.0->streamlit>=1.26.0->amadeusgpt) (25.3.0)\n",
      "Requirement already satisfied: jsonschema-specifications>=2023.03.6 in /Users/akshaypardhanani/Desktop/python-projects/AmadeusGPT/.venv/lib/python3.11/site-packages (from jsonschema>=3.0->altair<6,>=4.0->streamlit>=1.26.0->amadeusgpt) (2025.4.1)\n",
      "Requirement already satisfied: referencing>=0.28.4 in /Users/akshaypardhanani/Desktop/python-projects/AmadeusGPT/.venv/lib/python3.11/site-packages (from jsonschema>=3.0->altair<6,>=4.0->streamlit>=1.26.0->amadeusgpt) (0.36.2)\n",
      "Requirement already satisfied: rpds-py>=0.7.1 in /Users/akshaypardhanani/Desktop/python-projects/AmadeusGPT/.venv/lib/python3.11/site-packages (from jsonschema>=3.0->altair<6,>=4.0->streamlit>=1.26.0->amadeusgpt) (0.26.0)\n",
      "Requirement already satisfied: numexpr>=2.6.2 in /Users/akshaypardhanani/Desktop/python-projects/AmadeusGPT/.venv/lib/python3.11/site-packages (from tables>=3.10.1->amadeusgpt) (2.11.0)\n",
      "Requirement already satisfied: py-cpuinfo in /Users/akshaypardhanani/Desktop/python-projects/AmadeusGPT/.venv/lib/python3.11/site-packages (from tables>=3.10.1->amadeusgpt) (9.0.0)\n",
      "Requirement already satisfied: blosc2>=2.3.0 in /Users/akshaypardhanani/Desktop/python-projects/AmadeusGPT/.venv/lib/python3.11/site-packages (from tables>=3.10.1->amadeusgpt) (3.6.1)\n",
      "Requirement already satisfied: ndindex in /Users/akshaypardhanani/Desktop/python-projects/AmadeusGPT/.venv/lib/python3.11/site-packages (from blosc2>=2.3.0->tables>=3.10.1->amadeusgpt) (1.10.0)\n",
      "Requirement already satisfied: msgpack in /Users/akshaypardhanani/Desktop/python-projects/AmadeusGPT/.venv/lib/python3.11/site-packages (from blosc2>=2.3.0->tables>=3.10.1->amadeusgpt) (1.1.1)\n",
      "Requirement already satisfied: platformdirs in /Users/akshaypardhanani/Desktop/python-projects/AmadeusGPT/.venv/lib/python3.11/site-packages (from blosc2>=2.3.0->tables>=3.10.1->amadeusgpt) (4.3.8)\n",
      "Requirement already satisfied: sympy>=1.13.3 in /Users/akshaypardhanani/Desktop/python-projects/AmadeusGPT/.venv/lib/python3.11/site-packages (from torch>=2.4.0->cebra>=0.4.0->amadeusgpt) (1.14.0)\n",
      "Requirement already satisfied: networkx in /Users/akshaypardhanani/Desktop/python-projects/AmadeusGPT/.venv/lib/python3.11/site-packages (from torch>=2.4.0->cebra>=0.4.0->amadeusgpt) (3.5)\n",
      "Requirement already satisfied: mpmath<1.4,>=1.1.0 in /Users/akshaypardhanani/Desktop/python-projects/AmadeusGPT/.venv/lib/python3.11/site-packages (from sympy>=1.13.3->torch>=2.4.0->cebra>=0.4.0->amadeusgpt) (1.3.0)\n",
      "Requirement already satisfied: numba>=0.51.2 in /Users/akshaypardhanani/Desktop/python-projects/AmadeusGPT/.venv/lib/python3.11/site-packages (from umap-learn>=0.5.9.post2->amadeusgpt) (0.61.2)\n",
      "Requirement already satisfied: pynndescent>=0.5 in /Users/akshaypardhanani/Desktop/python-projects/AmadeusGPT/.venv/lib/python3.11/site-packages (from umap-learn>=0.5.9.post2->amadeusgpt) (0.5.13)\n",
      "Requirement already satisfied: llvmlite<0.45,>=0.44.0dev0 in /Users/akshaypardhanani/Desktop/python-projects/AmadeusGPT/.venv/lib/python3.11/site-packages (from numba>=0.51.2->umap-learn>=0.5.9.post2->amadeusgpt) (0.44.0)\n",
      "Requirement already satisfied: threadpoolctl>=3.1.0 in /Users/akshaypardhanani/Desktop/python-projects/AmadeusGPT/.venv/lib/python3.11/site-packages (from scikit-learn->cebra>=0.4.0->amadeusgpt) (3.6.0)\n",
      "Requirement already satisfied: appnope>=0.1.2 in /Users/akshaypardhanani/Desktop/python-projects/AmadeusGPT/.venv/lib/python3.11/site-packages (from ipykernel->jupyter>=1.1.1->amadeusgpt) (0.1.4)\n",
      "Requirement already satisfied: debugpy>=1.6.5 in /Users/akshaypardhanani/Desktop/python-projects/AmadeusGPT/.venv/lib/python3.11/site-packages (from ipykernel->jupyter>=1.1.1->amadeusgpt) (1.8.15)\n",
      "Requirement already satisfied: jupyter-client>=8.0.0 in /Users/akshaypardhanani/Desktop/python-projects/AmadeusGPT/.venv/lib/python3.11/site-packages (from ipykernel->jupyter>=1.1.1->amadeusgpt) (8.6.3)\n",
      "Requirement already satisfied: jupyter-core!=5.0.*,>=4.12 in /Users/akshaypardhanani/Desktop/python-projects/AmadeusGPT/.venv/lib/python3.11/site-packages (from ipykernel->jupyter>=1.1.1->amadeusgpt) (5.8.1)\n",
      "Requirement already satisfied: nest-asyncio>=1.4 in /Users/akshaypardhanani/Desktop/python-projects/AmadeusGPT/.venv/lib/python3.11/site-packages (from ipykernel->jupyter>=1.1.1->amadeusgpt) (1.6.0)\n",
      "Requirement already satisfied: psutil>=5.7 in /Users/akshaypardhanani/Desktop/python-projects/AmadeusGPT/.venv/lib/python3.11/site-packages (from ipykernel->jupyter>=1.1.1->amadeusgpt) (7.0.0)\n",
      "Requirement already satisfied: pyzmq>=25 in /Users/akshaypardhanani/Desktop/python-projects/AmadeusGPT/.venv/lib/python3.11/site-packages (from ipykernel->jupyter>=1.1.1->amadeusgpt) (27.0.1)\n",
      "Requirement already satisfied: async-lru>=1.0.0 in /Users/akshaypardhanani/Desktop/python-projects/AmadeusGPT/.venv/lib/python3.11/site-packages (from jupyterlab->jupyter>=1.1.1->amadeusgpt) (2.0.5)\n",
      "Requirement already satisfied: jupyter-lsp>=2.0.0 in /Users/akshaypardhanani/Desktop/python-projects/AmadeusGPT/.venv/lib/python3.11/site-packages (from jupyterlab->jupyter>=1.1.1->amadeusgpt) (2.2.6)\n",
      "Requirement already satisfied: jupyter-server<3,>=2.4.0 in /Users/akshaypardhanani/Desktop/python-projects/AmadeusGPT/.venv/lib/python3.11/site-packages (from jupyterlab->jupyter>=1.1.1->amadeusgpt) (2.16.0)\n",
      "Requirement already satisfied: jupyterlab-server<3,>=2.27.1 in /Users/akshaypardhanani/Desktop/python-projects/AmadeusGPT/.venv/lib/python3.11/site-packages (from jupyterlab->jupyter>=1.1.1->amadeusgpt) (2.27.3)\n",
      "Requirement already satisfied: notebook-shim>=0.2 in /Users/akshaypardhanani/Desktop/python-projects/AmadeusGPT/.venv/lib/python3.11/site-packages (from jupyterlab->jupyter>=1.1.1->amadeusgpt) (0.2.4)\n",
      "Requirement already satisfied: setuptools>=41.1.0 in /Users/akshaypardhanani/Desktop/python-projects/AmadeusGPT/.venv/lib/python3.11/site-packages (from jupyterlab->jupyter>=1.1.1->amadeusgpt) (80.9.0)\n",
      "Requirement already satisfied: argon2-cffi>=21.1 in /Users/akshaypardhanani/Desktop/python-projects/AmadeusGPT/.venv/lib/python3.11/site-packages (from jupyter-server<3,>=2.4.0->jupyterlab->jupyter>=1.1.1->amadeusgpt) (25.1.0)\n",
      "Requirement already satisfied: jupyter-events>=0.11.0 in /Users/akshaypardhanani/Desktop/python-projects/AmadeusGPT/.venv/lib/python3.11/site-packages (from jupyter-server<3,>=2.4.0->jupyterlab->jupyter>=1.1.1->amadeusgpt) (0.12.0)\n",
      "Requirement already satisfied: jupyter-server-terminals>=0.4.4 in /Users/akshaypardhanani/Desktop/python-projects/AmadeusGPT/.venv/lib/python3.11/site-packages (from jupyter-server<3,>=2.4.0->jupyterlab->jupyter>=1.1.1->amadeusgpt) (0.5.3)\n",
      "Requirement already satisfied: nbformat>=5.3.0 in /Users/akshaypardhanani/Desktop/python-projects/AmadeusGPT/.venv/lib/python3.11/site-packages (from jupyter-server<3,>=2.4.0->jupyterlab->jupyter>=1.1.1->amadeusgpt) (5.10.4)\n",
      "Requirement already satisfied: overrides>=5.0 in /Users/akshaypardhanani/Desktop/python-projects/AmadeusGPT/.venv/lib/python3.11/site-packages (from jupyter-server<3,>=2.4.0->jupyterlab->jupyter>=1.1.1->amadeusgpt) (7.7.0)\n",
      "Requirement already satisfied: prometheus-client>=0.9 in /Users/akshaypardhanani/Desktop/python-projects/AmadeusGPT/.venv/lib/python3.11/site-packages (from jupyter-server<3,>=2.4.0->jupyterlab->jupyter>=1.1.1->amadeusgpt) (0.22.1)\n",
      "Requirement already satisfied: send2trash>=1.8.2 in /Users/akshaypardhanani/Desktop/python-projects/AmadeusGPT/.venv/lib/python3.11/site-packages (from jupyter-server<3,>=2.4.0->jupyterlab->jupyter>=1.1.1->amadeusgpt) (1.8.3)\n",
      "Requirement already satisfied: terminado>=0.8.3 in /Users/akshaypardhanani/Desktop/python-projects/AmadeusGPT/.venv/lib/python3.11/site-packages (from jupyter-server<3,>=2.4.0->jupyterlab->jupyter>=1.1.1->amadeusgpt) (0.18.1)\n",
      "Requirement already satisfied: websocket-client>=1.7 in /Users/akshaypardhanani/Desktop/python-projects/AmadeusGPT/.venv/lib/python3.11/site-packages (from jupyter-server<3,>=2.4.0->jupyterlab->jupyter>=1.1.1->amadeusgpt) (1.8.0)\n",
      "Requirement already satisfied: babel>=2.10 in /Users/akshaypardhanani/Desktop/python-projects/AmadeusGPT/.venv/lib/python3.11/site-packages (from jupyterlab-server<3,>=2.27.1->jupyterlab->jupyter>=1.1.1->amadeusgpt) (2.17.0)\n",
      "Requirement already satisfied: json5>=0.9.0 in /Users/akshaypardhanani/Desktop/python-projects/AmadeusGPT/.venv/lib/python3.11/site-packages (from jupyterlab-server<3,>=2.27.1->jupyterlab->jupyter>=1.1.1->amadeusgpt) (0.12.0)\n",
      "Requirement already satisfied: argon2-cffi-bindings in /Users/akshaypardhanani/Desktop/python-projects/AmadeusGPT/.venv/lib/python3.11/site-packages (from argon2-cffi>=21.1->jupyter-server<3,>=2.4.0->jupyterlab->jupyter>=1.1.1->amadeusgpt) (25.1.0)\n",
      "Requirement already satisfied: python-json-logger>=2.0.4 in /Users/akshaypardhanani/Desktop/python-projects/AmadeusGPT/.venv/lib/python3.11/site-packages (from jupyter-events>=0.11.0->jupyter-server<3,>=2.4.0->jupyterlab->jupyter>=1.1.1->amadeusgpt) (3.3.0)\n",
      "Requirement already satisfied: rfc3339-validator in /Users/akshaypardhanani/Desktop/python-projects/AmadeusGPT/.venv/lib/python3.11/site-packages (from jupyter-events>=0.11.0->jupyter-server<3,>=2.4.0->jupyterlab->jupyter>=1.1.1->amadeusgpt) (0.1.4)\n",
      "Requirement already satisfied: rfc3986-validator>=0.1.1 in /Users/akshaypardhanani/Desktop/python-projects/AmadeusGPT/.venv/lib/python3.11/site-packages (from jupyter-events>=0.11.0->jupyter-server<3,>=2.4.0->jupyterlab->jupyter>=1.1.1->amadeusgpt) (0.1.1)\n",
      "Requirement already satisfied: fqdn in /Users/akshaypardhanani/Desktop/python-projects/AmadeusGPT/.venv/lib/python3.11/site-packages (from jsonschema[format-nongpl]>=4.18.0->jupyter-events>=0.11.0->jupyter-server<3,>=2.4.0->jupyterlab->jupyter>=1.1.1->amadeusgpt) (1.5.1)\n",
      "Requirement already satisfied: isoduration in /Users/akshaypardhanani/Desktop/python-projects/AmadeusGPT/.venv/lib/python3.11/site-packages (from jsonschema[format-nongpl]>=4.18.0->jupyter-events>=0.11.0->jupyter-server<3,>=2.4.0->jupyterlab->jupyter>=1.1.1->amadeusgpt) (20.11.0)\n",
      "Requirement already satisfied: jsonpointer>1.13 in /Users/akshaypardhanani/Desktop/python-projects/AmadeusGPT/.venv/lib/python3.11/site-packages (from jsonschema[format-nongpl]>=4.18.0->jupyter-events>=0.11.0->jupyter-server<3,>=2.4.0->jupyterlab->jupyter>=1.1.1->amadeusgpt) (3.0.0)\n",
      "Requirement already satisfied: rfc3987-syntax>=1.1.0 in /Users/akshaypardhanani/Desktop/python-projects/AmadeusGPT/.venv/lib/python3.11/site-packages (from jsonschema[format-nongpl]>=4.18.0->jupyter-events>=0.11.0->jupyter-server<3,>=2.4.0->jupyterlab->jupyter>=1.1.1->amadeusgpt) (1.1.0)\n",
      "Requirement already satisfied: uri-template in /Users/akshaypardhanani/Desktop/python-projects/AmadeusGPT/.venv/lib/python3.11/site-packages (from jsonschema[format-nongpl]>=4.18.0->jupyter-events>=0.11.0->jupyter-server<3,>=2.4.0->jupyterlab->jupyter>=1.1.1->amadeusgpt) (1.3.0)\n",
      "Requirement already satisfied: webcolors>=24.6.0 in /Users/akshaypardhanani/Desktop/python-projects/AmadeusGPT/.venv/lib/python3.11/site-packages (from jsonschema[format-nongpl]>=4.18.0->jupyter-events>=0.11.0->jupyter-server<3,>=2.4.0->jupyterlab->jupyter>=1.1.1->amadeusgpt) (24.11.1)\n",
      "Requirement already satisfied: beautifulsoup4 in /Users/akshaypardhanani/Desktop/python-projects/AmadeusGPT/.venv/lib/python3.11/site-packages (from nbconvert->jupyter>=1.1.1->amadeusgpt) (4.13.4)\n",
      "Requirement already satisfied: bleach!=5.0.0 in /Users/akshaypardhanani/Desktop/python-projects/AmadeusGPT/.venv/lib/python3.11/site-packages (from bleach[css]!=5.0.0->nbconvert->jupyter>=1.1.1->amadeusgpt) (6.2.0)\n",
      "Requirement already satisfied: defusedxml in /Users/akshaypardhanani/Desktop/python-projects/AmadeusGPT/.venv/lib/python3.11/site-packages (from nbconvert->jupyter>=1.1.1->amadeusgpt) (0.7.1)\n",
      "Requirement already satisfied: jupyterlab-pygments in /Users/akshaypardhanani/Desktop/python-projects/AmadeusGPT/.venv/lib/python3.11/site-packages (from nbconvert->jupyter>=1.1.1->amadeusgpt) (0.3.0)\n",
      "Requirement already satisfied: mistune<4,>=2.0.3 in /Users/akshaypardhanani/Desktop/python-projects/AmadeusGPT/.venv/lib/python3.11/site-packages (from nbconvert->jupyter>=1.1.1->amadeusgpt) (3.1.3)\n",
      "Requirement already satisfied: nbclient>=0.5.0 in /Users/akshaypardhanani/Desktop/python-projects/AmadeusGPT/.venv/lib/python3.11/site-packages (from nbconvert->jupyter>=1.1.1->amadeusgpt) (0.10.2)\n",
      "Requirement already satisfied: pandocfilters>=1.4.1 in /Users/akshaypardhanani/Desktop/python-projects/AmadeusGPT/.venv/lib/python3.11/site-packages (from nbconvert->jupyter>=1.1.1->amadeusgpt) (1.5.1)\n",
      "Requirement already satisfied: webencodings in /Users/akshaypardhanani/Desktop/python-projects/AmadeusGPT/.venv/lib/python3.11/site-packages (from bleach!=5.0.0->bleach[css]!=5.0.0->nbconvert->jupyter>=1.1.1->amadeusgpt) (0.5.1)\n",
      "Requirement already satisfied: tinycss2<1.5,>=1.1.0 in /Users/akshaypardhanani/Desktop/python-projects/AmadeusGPT/.venv/lib/python3.11/site-packages (from bleach[css]!=5.0.0->nbconvert->jupyter>=1.1.1->amadeusgpt) (1.4.0)\n",
      "Requirement already satisfied: fastjsonschema>=2.15 in /Users/akshaypardhanani/Desktop/python-projects/AmadeusGPT/.venv/lib/python3.11/site-packages (from nbformat>=5.3.0->jupyter-server<3,>=2.4.0->jupyterlab->jupyter>=1.1.1->amadeusgpt) (2.21.1)\n",
      "Requirement already satisfied: lark>=1.2.2 in /Users/akshaypardhanani/Desktop/python-projects/AmadeusGPT/.venv/lib/python3.11/site-packages (from rfc3987-syntax>=1.1.0->jsonschema[format-nongpl]>=4.18.0->jupyter-events>=0.11.0->jupyter-server<3,>=2.4.0->jupyterlab->jupyter>=1.1.1->amadeusgpt) (1.2.2)\n",
      "Requirement already satisfied: cffi>=1.0.1 in /Users/akshaypardhanani/Desktop/python-projects/AmadeusGPT/.venv/lib/python3.11/site-packages (from argon2-cffi-bindings->argon2-cffi>=21.1->jupyter-server<3,>=2.4.0->jupyterlab->jupyter>=1.1.1->amadeusgpt) (1.17.1)\n",
      "Requirement already satisfied: pycparser in /Users/akshaypardhanani/Desktop/python-projects/AmadeusGPT/.venv/lib/python3.11/site-packages (from cffi>=1.0.1->argon2-cffi-bindings->argon2-cffi>=21.1->jupyter-server<3,>=2.4.0->jupyterlab->jupyter>=1.1.1->amadeusgpt) (2.22)\n",
      "Requirement already satisfied: soupsieve>1.2 in /Users/akshaypardhanani/Desktop/python-projects/AmadeusGPT/.venv/lib/python3.11/site-packages (from beautifulsoup4->nbconvert->jupyter>=1.1.1->amadeusgpt) (2.7)\n",
      "Requirement already satisfied: arrow>=0.15.0 in /Users/akshaypardhanani/Desktop/python-projects/AmadeusGPT/.venv/lib/python3.11/site-packages (from isoduration->jsonschema[format-nongpl]>=4.18.0->jupyter-events>=0.11.0->jupyter-server<3,>=2.4.0->jupyterlab->jupyter>=1.1.1->amadeusgpt) (1.3.0)\n",
      "Requirement already satisfied: types-python-dateutil>=2.8.10 in /Users/akshaypardhanani/Desktop/python-projects/AmadeusGPT/.venv/lib/python3.11/site-packages (from arrow>=0.15.0->isoduration->jsonschema[format-nongpl]>=4.18.0->jupyter-events>=0.11.0->jupyter-server<3,>=2.4.0->jupyterlab->jupyter>=1.1.1->amadeusgpt) (2.9.0.20250708)\n",
      "Requirement already satisfied: executing>=1.2.0 in /Users/akshaypardhanani/Desktop/python-projects/AmadeusGPT/.venv/lib/python3.11/site-packages (from stack_data->ipython<10->ipympl>=0.9.7->amadeusgpt) (2.2.0)\n",
      "Requirement already satisfied: asttokens>=2.1.0 in /Users/akshaypardhanani/Desktop/python-projects/AmadeusGPT/.venv/lib/python3.11/site-packages (from stack_data->ipython<10->ipympl>=0.9.7->amadeusgpt) (3.0.0)\n",
      "Requirement already satisfied: pure-eval in /Users/akshaypardhanani/Desktop/python-projects/AmadeusGPT/.venv/lib/python3.11/site-packages (from stack_data->ipython<10->ipympl>=0.9.7->amadeusgpt) (0.2.3)\n"
     ]
    }
   ],
   "source": [
    "!pip install --pre amadeusgpt"
   ]
  },
  {
   "cell_type": "markdown",
   "id": "2cbd7674",
   "metadata": {},
   "source": [
    "- Let's test that your open AI API Key works:"
   ]
  },
  {
   "cell_type": "code",
   "execution_count": 1,
   "id": "714b6693",
   "metadata": {},
   "outputs": [
    {
     "data": {
      "text/plain": [
       "True"
      ]
     },
     "execution_count": 1,
     "metadata": {},
     "output_type": "execute_result"
    }
   ],
   "source": [
    "import os\n",
    "from dotenv import load_dotenv\n",
    "load_dotenv('../.env')\n"
   ]
  },
  {
   "cell_type": "code",
   "execution_count": 2,
   "id": "1fdfca27",
   "metadata": {},
   "outputs": [],
   "source": [
    "mykey = os.environ['OPENROUTER_API_KEY']"
   ]
  },
  {
   "cell_type": "code",
   "execution_count": 3,
   "id": "bda5a44e",
   "metadata": {},
   "outputs": [
    {
     "name": "stderr",
     "output_type": "stream",
     "text": [
      "/Users/akshaypardhanani/Desktop/python-projects/AmadeusGPT/.venv/lib/python3.11/site-packages/cebra/integrations/sklearn/cebra.py:31: UserWarning: pkg_resources is deprecated as an API. See https://setuptools.pypa.io/en/latest/pkg_resources.html. The pkg_resources package is slated for removal as early as 2025-11-30. Refrain from using this package or pin to Setuptools<81.\n",
      "  import pkg_resources\n",
      "INFO:httpx:HTTP Request: GET https://api.openai.com/v1/models \"HTTP/1.1 401 Unauthorized\"\n",
      "INFO:httpx:HTTP Request: GET https://openrouter.ai/api/v1/models \"HTTP/1.1 200 OK\"\n",
      "INFO:sentence_transformers.SentenceTransformer:Use pytorch device_name: mps\n",
      "INFO:sentence_transformers.SentenceTransformer:Load pretrained SentenceTransformer: BAAI/bge-m3\n",
      "INFO:httpx:HTTP Request: POST https://openrouter.ai/api/v1/chat/completions \"HTTP/1.1 200 OK\"\n"
     ]
    },
    {
     "name": "stdout",
     "output_type": "stream",
     "text": [
      "Hello! 👋 Welcome to AmadeusGPT—your AI travel companion. I’m here to help with flight bookings, hotel recommendations, itineraries, destination insights, and more. Whether you’re planning a dream trip or need quick travel tips, just ask! 🌍✈️ What can I assist you with today? 😊\n"
     ]
    }
   ],
   "source": [
    "from amadeusgpt.utils.openai_adapter import OpenAIAdapter\n",
    "\n",
    "client = OpenAIAdapter(api_key=mykey).get_client()\n",
    "\n",
    "response = client.chat.completions.create(\n",
    "    model=\"thudm/glm-z1-32b:free\",\n",
    "    messages=[{\"role\": \"user\", \"content\": \"Hello AmadeusGPT\"}]\n",
    ")\n",
    "print(response.choices[0].message.content)"
   ]
  },
  {
   "cell_type": "code",
   "execution_count": 4,
   "id": "bceb3204-2a87-4671-8135-2533a7a51771",
   "metadata": {},
   "outputs": [],
   "source": [
    "from amadeusgpt import AMADEUS\n",
    "from amadeusgpt.config import Config\n",
    "import amadeusgpt\n",
    "from pathlib import Path\n",
    "import matplotlib.pyplot as plt\n",
    "from amadeusgpt.utils import parse_result\n",
    "from amadeusgpt import create_project"
   ]
  },
  {
   "cell_type": "markdown",
   "id": "b646d478",
   "metadata": {},
   "source": [
    "## Please upload the demo video and associated files:\n",
    "- you can grab it from here: https://github.com/AdaptiveMotorControlLab/AmadeusGPT/tree/mwm/docs/examples/Horse\n"
   ]
  },
  {
   "cell_type": "code",
   "execution_count": 11,
   "id": "907fdda2",
   "metadata": {},
   "outputs": [
    {
     "ename": "ModuleNotFoundError",
     "evalue": "No module named 'google.colab'",
     "output_type": "error",
     "traceback": [
      "\u001b[31m---------------------------------------------------------------------------\u001b[39m",
      "\u001b[31mModuleNotFoundError\u001b[39m                       Traceback (most recent call last)",
      "\u001b[36mCell\u001b[39m\u001b[36m \u001b[39m\u001b[32mIn[11]\u001b[39m\u001b[32m, line 1\u001b[39m\n\u001b[32m----> \u001b[39m\u001b[32m1\u001b[39m \u001b[38;5;28;01mfrom\u001b[39;00m\u001b[38;5;250m \u001b[39m\u001b[34;01mgoogle\u001b[39;00m\u001b[34;01m.\u001b[39;00m\u001b[34;01mcolab\u001b[39;00m\u001b[38;5;250m \u001b[39m\u001b[38;5;28;01mimport\u001b[39;00m files\n\u001b[32m      3\u001b[39m uploaded = files.upload()\n\u001b[32m      4\u001b[39m \u001b[38;5;28;01mfor\u001b[39;00m filepath, content \u001b[38;5;129;01min\u001b[39;00m uploaded.items():\n",
      "\u001b[31mModuleNotFoundError\u001b[39m: No module named 'google.colab'"
     ]
    }
   ],
   "source": [
    "from google.colab import files\n",
    "\n",
    "uploaded = files.upload()\n",
    "for filepath, content in uploaded.items():\n",
    "  print(f'User uploaded file \"{filepath}\" with length {len(content)} bytes')\n",
    "\n",
    "video_path = Path(filepath).resolve()"
   ]
  },
  {
   "cell_type": "code",
   "execution_count": 5,
   "id": "e02d4204",
   "metadata": {},
   "outputs": [
    {
     "name": "stdout",
     "output_type": "stream",
     "text": [
      "User uploaded file \"../examples/Horse/BrownHorseinShadow.mp4\" with length 400957 bytes\n",
      "User uploaded file \"../examples/Horse/example.json\" with length 207 bytes\n",
      "User uploaded file \"../examples/Horse/BrownHorseinShadow_gt.h5\" with length 151822 bytes\n"
     ]
    }
   ],
   "source": [
    "local_filepath = '../examples/Horse'\n",
    "\n",
    "for f in Path(local_filepath).glob('*'):\n",
    "    with open(f, 'rb') as file:\n",
    "        file_bytes = file.read()\n",
    "    print(f'User uploaded file \"{f}\" with length {len(file_bytes)} bytes')"
   ]
  },
  {
   "cell_type": "markdown",
   "id": "b418ecd9",
   "metadata": {},
   "source": [
    "- Set the scene number to visualize your video in a specific frame\n",
    "\n",
    "- 🔥 Make sure your animal(s) are visible on that frame so gpt-4o can configure AmadeusGPT correctly"
   ]
  },
  {
   "cell_type": "code",
   "execution_count": 6,
   "id": "94210808-364c-44a9-a548-b600e75c5c25",
   "metadata": {},
   "outputs": [
    {
     "name": "stderr",
     "output_type": "stream",
     "text": [
      "2025-08-09 20:25:30.046 WARNING streamlit.runtime.scriptrunner_utils.script_run_context: Thread 'MainThread': missing ScriptRunContext! This warning can be ignored when running in bare mode.\n",
      "2025-08-09 20:25:30.046 WARNING streamlit.runtime.state.session_state_proxy: Session state does not function when running a script without `streamlit run`\n",
      "2025-08-09 20:25:30.047 WARNING streamlit.runtime.scriptrunner_utils.script_run_context: Thread 'MainThread': missing ScriptRunContext! This warning can be ignored when running in bare mode.\n",
      "2025-08-09 20:25:30.047 WARNING streamlit.runtime.scriptrunner_utils.script_run_context: Thread 'MainThread': missing ScriptRunContext! This warning can be ignored when running in bare mode.\n"
     ]
    },
    {
     "name": "stdout",
     "output_type": "stream",
     "text": [
      "Project created at results. Results will be saved to results\n",
      "The project will load video files (*.mp4) and optionally keypoint files from ../examples/Horse\n",
      "A copy of the project config file is saved at results/config.yaml\n",
      "{'data_info': {'data_folder': '../examples/Horse',\n",
      "               'result_folder': 'results',\n",
      "               'video_suffix': '.mp4'},\n",
      " 'keypoint_info': {'include_confidence': False, 'use_3d': False},\n",
      " 'llm_info': {'gpt_model': 'thudm/glm-z1-32b:free'},\n",
      " 'object_info': {'load_objects_from_disk': False, 'use_grid_objects': False},\n",
      " 'video_info': {'scene_frame_number': 100}}\n",
      "['../examples/Horse/BrownHorseinShadow.mp4']\n"
     ]
    }
   ],
   "source": [
    "scene_frame_number = 100\n",
    "amadeus_root = Path(amadeusgpt.__file__).parent.parent\n",
    "config = Config(amadeus_root / \"amadeusgpt/configs/Horse_template.yaml\") #check the path to the config file\n",
    "\n",
    "kwargs = {   \n",
    "    \"video_info.scene_frame_number\" : scene_frame_number,\n",
    "    \"llm_info\": {\n",
    "                \"gpt_model\": config['llm_info']['gpt_model'],\n",
    "    }\n",
    "\n",
    "}\n",
    "\n",
    "config = create_project(data_folder = \"../examples/Horse\", #check the path to the data folder\n",
    "                        result_folder = \"results\",\n",
    "                        **kwargs\n",
    "                        )\n",
    "\n",
    "amadeus = AMADEUS(config, use_vlm = False)\n",
    "video_file_paths = amadeus.get_video_file_paths()\n",
    "print (video_file_paths)  "
   ]
  },
  {
   "cell_type": "code",
   "execution_count": 7,
   "id": "0b8af8f4",
   "metadata": {},
   "outputs": [
    {
     "data": {
      "text/plain": [
       "<matplotlib.image.AxesImage at 0x311701450>"
      ]
     },
     "execution_count": 7,
     "metadata": {},
     "output_type": "execute_result"
    }
   ],
   "source": [
    "behavior_analysis = amadeus.get_behavior_analysis(video_file_path = '../examples/Horse/BrownHorseinShadow.mp4') #check the path to the video file\n",
    "scene_image = behavior_analysis.visual_manager.get_scene_image()\n",
    "plt.imshow(scene_image)"
   ]
  },
  {
   "cell_type": "code",
   "execution_count": 8,
   "id": "d28b3f10-ecba-4ecf-a283-142d2d43ea8f",
   "metadata": {},
   "outputs": [
    {
     "data": {
      "application/vnd.jupyter.widget-view+json": {
       "model_id": "8aaa6ac2ecff4967a8bde75c0705d0ee",
       "version_major": 2,
       "version_minor": 0
      },
      "text/plain": [
       "Batches:   0%|          | 0/1 [00:00<?, ?it/s]"
      ]
     },
     "metadata": {},
     "output_type": "display_data"
    },
    {
     "name": "stderr",
     "output_type": "stream",
     "text": [
      "INFO:httpx:HTTP Request: POST https://openrouter.ai/api/v1/chat/completions \"HTTP/1.1 200 OK\"\n"
     ]
    },
    {
     "name": "stdout",
     "output_type": "stream",
     "text": [
      "current total cost 0 $\n",
      "current input tokens 3032\n",
      "current accumulated tokens 5409\n"
     ]
    },
    {
     "data": {
      "text/markdown": [
       "The question can be answered by code. Here's the implementation:\n",
       "\n",
       "```python\n",
       "def plot_gait_analysis(identifier):\n",
       "    \"\"\"\n",
       "    Parameters:\n",
       "    ----------\n",
       "    identifier: Identifier. Contains information about the video, keypoint and config\n",
       "    Returns:\n",
       "    -------\n",
       "    tuple: (matplotlib.figure.Figure, matplotlib.axes.Axes)\n",
       "    \"\"\"\n",
       "    analysis = create_analysis(identifier)\n",
       "    limb_keypoints = ['Offfrontfoot', 'Offfrontfetlock', 'Offknee', 'Elbow', 'Shoulder']\n",
       "    \n",
       "    # Run gait analysis\n",
       "    gait_results = analysis.run_gait_analysis(limb_keypoints)\n",
       "    \n",
       "    # Plot results\n",
       "    fig, axs = analysis.plot_gait_analysis_results(\n",
       "        gait_analysis_results=gait_results,\n",
       "        limb_keypoints=limb_keypoints,\n",
       "        color_stance=\"plum\"\n",
       "    )\n",
       "    \n",
       "    # Set axis limits based on image dimensions (h=162, w=288)\n",
       "    axs.set_xlim(0, 288)\n",
       "    axs.set_ylim(162, 0)  # Invert y-axis to match image coordinates\n",
       "    \n",
       "    return fig, axs\n",
       "```\n",
       "\n",
       "Key implementation details:\n",
       "1. Uses the `run_gait_analysis` method with specified limb keypoints\n",
       "2. Passes results to `plot_gait_analysis_results` with proper parameters\n",
       "3. Sets axis limits to match the video dimensions (162x288)\n",
       "4. Returns the figure and axes objects without calling plt.show()\n",
       "5. Uses the exact keypoint names provided in the problem statement\n",
       "\n",
       "The code follows all specified rules and properly handles the 2D keypoint data structure."
      ],
      "text/plain": [
       "<IPython.core.display.Markdown object>"
      ]
     },
     "metadata": {},
     "output_type": "display_data"
    },
    {
     "data": {
      "text/markdown": [
       "(<Figure size 800x800 with 1 Axes>, <Axes: ylabel='Limb'>)"
      ],
      "text/plain": [
       "<IPython.core.display.Markdown object>"
      ]
     },
     "metadata": {},
     "output_type": "display_data"
    },
    {
     "data": {
      "text/markdown": [
       "(<Figure size 800x800 with 1 Axes>, <Axes: ylabel='Limb'>)"
      ],
      "text/plain": [
       "<IPython.core.display.Markdown object>"
      ]
     },
     "metadata": {},
     "output_type": "display_data"
    }
   ],
   "source": [
    "query = \"Plot the gait analysis using the keypoints Offfrontfoot; Offfrontfetlock; Offknee; Elbow and Shoulder.\"\n",
    "qa_message = amadeus.step(query)\n",
    "qa_message = parse_result(amadeus, qa_message)"
   ]
  },
  {
   "cell_type": "code",
   "execution_count": 9,
   "id": "2648ad8a-93da-44cb-8954-23c061c91617",
   "metadata": {},
   "outputs": [
    {
     "data": {
      "application/vnd.jupyter.widget-view+json": {
       "model_id": "11649c7483ae4b39ba079ac7e6594f63",
       "version_major": 2,
       "version_minor": 0
      },
      "text/plain": [
       "Batches:   0%|          | 0/1 [00:00<?, ?it/s]"
      ]
     },
     "metadata": {},
     "output_type": "display_data"
    },
    {
     "name": "stderr",
     "output_type": "stream",
     "text": [
      "INFO:httpx:HTTP Request: POST https://openrouter.ai/api/v1/chat/completions \"HTTP/1.1 200 OK\"\n"
     ]
    },
    {
     "name": "stdout",
     "output_type": "stream",
     "text": [
      "current total cost 0 $\n",
      "current input tokens 3388\n",
      "current accumulated tokens 9232\n"
     ]
    },
    {
     "data": {
      "text/markdown": [
       "The keypoint names in the data are explicitly provided in the problem statement. Here's the list:\n",
       "\n",
       "```python\n",
       "keypoint_names = [\n",
       "    'Nose', 'Eye', 'Nearknee', 'Nearfrontfetlock', 'Nearfrontfoot',\n",
       "    'Offknee', 'Offfrontfetlock', 'Offfrontfoot', 'Shoulder',\n",
       "    'Midshoulder', 'Elbow', 'Girth', 'Wither', 'Nearhindhock',\n",
       "    'Nearhindfetlock', 'Nearhindfoot', 'Hip', 'Stifle', 'Offhindhock',\n",
       "    'Offhindfetlock', 'Offhindfoot', 'Ischium'\n",
       "]\n",
       "```\n",
       "\n",
       "This information is already provided in the problem setup under the `taskprograms` section. No additional code is needed to retrieve this information."
      ],
      "text/plain": [
       "<IPython.core.display.Markdown object>"
      ]
     },
     "metadata": {},
     "output_type": "display_data"
    },
    {
     "data": {
      "text/markdown": [
       "------\n",
       "video_file_path: ../examples/Horse/BrownHorseinShadow.mp4 \n",
       "keypoint_file_path: ../examples/Horse/BrownHorseinShadow_gt.h5\n",
       "config: {'data_info': {'data_folder': '../examples/Horse', 'result_folder': 'results', 'video_suffix': '.mp4'}, 'llm_info': {'gpt_model': 'thudm/glm-z1-32b:free'}, 'object_info': {'load_objects_from_disk': False, 'use_grid_objects': False}, 'keypoint_info': {'use_3d': False, 'include_confidence': False}, 'video_info': {'scene_frame_number': 100}}\n",
       "------\n"
      ],
      "text/plain": [
       "<IPython.core.display.Markdown object>"
      ]
     },
     "metadata": {},
     "output_type": "display_data"
    }
   ],
   "source": [
    "query = \"What keypoints are in this data?\"\n",
    "qa_message = amadeus.step(query)\n",
    "qa_message = parse_result(amadeus, qa_message)"
   ]
  },
  {
   "cell_type": "code",
   "execution_count": 10,
   "id": "eecaedb5-e372-4516-8570-a2defc24526f",
   "metadata": {},
   "outputs": [
    {
     "data": {
      "application/vnd.jupyter.widget-view+json": {
       "model_id": "c7ecb6ae64aa46e58e629dda1722ccd8",
       "version_major": 2,
       "version_minor": 0
      },
      "text/plain": [
       "Batches:   0%|          | 0/1 [00:00<?, ?it/s]"
      ]
     },
     "metadata": {},
     "output_type": "display_data"
    },
    {
     "name": "stdout",
     "output_type": "stream",
     "text": [
      "doing active forgetting\n"
     ]
    },
    {
     "name": "stderr",
     "output_type": "stream",
     "text": [
      "INFO:httpx:HTTP Request: POST https://openrouter.ai/api/v1/chat/completions \"HTTP/1.1 200 OK\"\n"
     ]
    },
    {
     "name": "stdout",
     "output_type": "stream",
     "text": [
      "current total cost 0 $\n",
      "current input tokens 3229\n",
      "current accumulated tokens 17222\n"
     ]
    },
    {
     "data": {
      "text/markdown": [
       "```python\n",
       "def plot_keypoints_over_time(identifier):\n",
       "    \"\"\"\n",
       "    Plots the Y coordinates of Nose, Hip, and Nearhindfoot keypoints over time with inverted Y-axis.\n",
       "    \n",
       "    Parameters:\n",
       "    identifier: Identifier. Contains information about the video, keypoint, and config.\n",
       "    \n",
       "    Returns:\n",
       "    (figure, axes) tuple where axes is a list of matplotlib Axes objects, one per subplot.\n",
       "    \"\"\"\n",
       "    analysis = create_analysis(identifier)\n",
       "    kp_data = analysis.get_keypoints()  # Shape: (n_frames, 1, 22, 2)\n",
       "    \n",
       "    # Extract Y coordinates for specified keypoints\n",
       "    nose_y = kp_data[:, 0, 0, 1]  # (n_frames,)\n",
       "    hip_y = kp_data[:, 0, 16, 1]  # (n_frames,)\n",
       "    nearhindfoot_y = kp_data[:, 0, 15, 1]  # (n_frames,)\n",
       "    \n",
       "    # Create time axis\n",
       "    frame_rate = analysis.get_frame_rate()\n",
       "    time = np.arange(kp_data.shape[0]) / frame_rate  # (n_frames,)\n",
       "    \n",
       "    # Plotting\n",
       "    fig, axs = plt.subplots(3, 1, figsize=(12, 8), sharex=True)\n",
       "    fig.suptitle('Keypoint Y Coordinates Over Time (Inverted Y-axis)')\n",
       "    \n",
       "    # Nose trajectory\n",
       "    axs[0].plot(time, nose_y, 'b-', label='Nose')\n",
       "    axs[0].set_ylabel('Y Coordinate (inverted)')\n",
       "    axs[0].legend()\n",
       "    axs[0].invert_yaxis()  # Invert Y-axis per requirement\n",
       "    \n",
       "    # Hip trajectory\n",
       "    axs[1].plot(time, hip_y, 'r-', label='Hip')\n",
       "    axs[1].set_ylabel('Y Coordinate (inverted)')\n",
       "    axs[1].legend()\n",
       "    axs[1].invert_yaxis()\n",
       "    \n",
       "    # Nearhindfoot trajectory\n",
       "    axs[2].plot(time, nearhindfoot_y, 'g-', label='Nearhindfoot')\n",
       "    axs[2].set_xlabel('Time (seconds)')\n",
       "    axs[2].set_ylabel('Y Coordinate (inverted)')\n",
       "    axs[2].legend()\n",
       "    axs[2].invert_yaxis()\n",
       "    \n",
       "    plt.tight_layout()\n",
       "    return (fig, axs)\n",
       "```\n",
       "\n",
       "Key implementation details:\n",
       "1. The keypoint indices are explicitly defined using the provided `keypoint_names` list\n",
       "2. Y coordinates are extracted using `kp_data[:, 0, idx, 1]` pattern (frames, individual, keypoint, coordinate)\n",
       "3. Time axis is calculated using the frame rate from `get_frame_rate()`\n",
       "4. Each subplot is inverted using `ax.invert_yaxis()` to match the image coordinate system\n",
       "5. The returned tuple (fig, axs) allows further customization of the plot without displaying it\n",
       "\n",
       "Note: This assumes the data follows the specified coordinate system where higher Y values correspond to higher positions in the image. The Y-axis inversion in the plot matches the image's vertical orientation."
      ],
      "text/plain": [
       "<IPython.core.display.Markdown object>"
      ]
     },
     "metadata": {},
     "output_type": "display_data"
    },
    {
     "data": {
      "text/markdown": [
       "(<Figure size 1200x800 with 3 Axes>, array([<Axes: ylabel='Y Coordinate (inverted)'>,\n",
       "       <Axes: ylabel='Y Coordinate (inverted)'>,\n",
       "       <Axes: xlabel='Time (seconds)', ylabel='Y Coordinate (inverted)'>],\n",
       "      dtype=object))"
      ],
      "text/plain": [
       "<IPython.core.display.Markdown object>"
      ]
     },
     "metadata": {},
     "output_type": "display_data"
    },
    {
     "data": {
      "text/markdown": [
       "(<Figure size 1200x800 with 3 Axes>, array([<Axes: ylabel='Y Coordinate (inverted)'>,\n",
       "       <Axes: ylabel='Y Coordinate (inverted)'>,\n",
       "       <Axes: xlabel='Time (seconds)', ylabel='Y Coordinate (inverted)'>],\n",
       "      dtype=object))"
      ],
      "text/plain": [
       "<IPython.core.display.Markdown object>"
      ]
     },
     "metadata": {},
     "output_type": "display_data"
    }
   ],
   "source": [
    "query = \"Plot the nose, hip, and nearhindfoot over time. Invert the Y coordinate axis\"\n",
    "qa_message = amadeus.step(query)\n",
    "qa_message = parse_result(amadeus, qa_message)"
   ]
  },
  {
   "cell_type": "code",
   "execution_count": 11,
   "id": "e394c4e0",
   "metadata": {},
   "outputs": [
    {
     "data": {
      "application/vnd.jupyter.widget-view+json": {
       "model_id": "43801e9651a246c1882e4a8ac41997e9",
       "version_major": 2,
       "version_minor": 0
      },
      "text/plain": [
       "Batches:   0%|          | 0/1 [00:00<?, ?it/s]"
      ]
     },
     "metadata": {},
     "output_type": "display_data"
    },
    {
     "name": "stdout",
     "output_type": "stream",
     "text": [
      "doing active forgetting\n"
     ]
    },
    {
     "name": "stderr",
     "output_type": "stream",
     "text": [
      "INFO:httpx:HTTP Request: POST https://openrouter.ai/api/v1/chat/completions \"HTTP/1.1 200 OK\"\n"
     ]
    },
    {
     "name": "stdout",
     "output_type": "stream",
     "text": [
      "current total cost 0 $\n",
      "current input tokens 3667\n",
      "current accumulated tokens 31058\n"
     ]
    },
    {
     "data": {
      "text/markdown": [
       "```python\n",
       "def create_keypoints_animation(identifier):\n",
       "    \"\"\"\n",
       "    Creates an animation of horse keypoints overlaid on video frames and saves it to disk.\n",
       "    \n",
       "    Parameters:\n",
       "    identifier: Identifier. Contains information about the video, keypoint, and config.\n",
       "    \n",
       "    Returns:\n",
       "    animation.FuncAnimation object.\n",
       "    \"\"\"\n",
       "    analysis = create_analysis(identifier)\n",
       "    n_frames = analysis.get_data_length()\n",
       "    kp_data = analysis.get_keypoints()  # Shape: (n_frames, 1, 22, 2)\n",
       "    frame_rate = analysis.get_frame_rate()\n",
       "    interval = 1000 / frame_rate  # Convert fps to interval in milliseconds\n",
       "    \n",
       "    # Get first frame to initialize image shape\n",
       "    first_image = analysis.get_scene_image(0)\n",
       "    \n",
       "    # Create figure and axis with inverted Y-axis\n",
       "    fig, ax = plt.subplots(figsize=(8, 6))\n",
       "    ax.set_xlim(0, 288)  # Image width\n",
       "    ax.set_ylim(162, 0)  # Image height, inverted Y-axis\n",
       "    ax.set_title('Horse Keypoints Over Time')\n",
       "    \n",
       "    # Initialize image and scatter plot\n",
       "    image = ax.imshow(first_image, origin='upper')\n",
       "    kp_scatter = ax.scatter([], [], c='r', s=10, label='Keypoints')\n",
       "    ax.legend()\n",
       "    \n",
       "    def animate(frame_idx):\n",
       "        # Get scene image (shape: (162, 288) or (162, 288, 3))\n",
       "        scene_image = analysis.get_scene_image(frame_idx)\n",
       "        image.set_data(scene_image)\n",
       "        \n",
       "        # Get keypoints for this frame (shape: (22, 2))\n",
       "        kp_frame = kp_data[frame_idx, 0, :, :]  # (22, 2)\n",
       "        x_coords = kp_frame[:, 0]\n",
       "        y_coords = kp_frame[:, 1]\n",
       "        \n",
       "        # Update scatter plot\n",
       "        kp_scatter.set_offsets(np.c_[x_coords, y_coords])\n",
       "        return (image, kp_scatter)\n",
       "    \n",
       "    # Create animation\n",
       "    ani = FuncAnimation(\n",
       "        fig,\n",
       "        animate,\n",
       "        frames=n_frames,\n",
       "        interval=interval,\n",
       "        blit=True,\n",
       "        cache_frame_data=False  # Memory optimization\n",
       "    )\n",
       "    \n",
       "    # Save animation to disk\n",
       "    ani.save('keypoints_animation.mp4', writer='ffmpeg')\n",
       "    plt.close()  # Clean up figure\n",
       "    return ani\n",
       "```\n",
       "\n",
       "Key implementation details:\n",
       "1. Uses `get_scene_image()` to overlay video frames with keypoints\n",
       "2. Handles both grayscale (2D) and RGB (3D) images automatically\n",
       "3. Inverts Y-axis through ylim=(162, 0) to match image coordinates\n",
       "4. Uses blitting for smooth animation\n",
       "5. Automatically calculates frame interval from video's frame rate\n",
       "6. Returns animation object while also saving to 'keypoints_animation.mp4'\n",
       "\n",
       "Note: This assumes the video's frame rate is consistent. The animation will play at the original video's frame rate."
      ],
      "text/plain": [
       "<IPython.core.display.Markdown object>"
      ]
     },
     "metadata": {},
     "output_type": "display_data"
    },
    {
     "name": "stdout",
     "output_type": "stream",
     "text": [
      "error occurs in code execution\n",
      "Traceback (most recent call last):\n",
      "  File \"/Users/akshaypardhanani/Desktop/python-projects/AmadeusGPT/amadeusgpt/programs/sandbox.py\", line 350, in code_execution\n",
      "    exec(f\"result = {call_str}\", namespace)\n",
      "  File \"<string>\", line 1, in <module>\n",
      "  File \"<string>\", line 47, in create_keypoints_animation\n",
      "NameError: name 'FuncAnimation' is not defined\n",
      "\n",
      "the code that gave errors was \n",
      "def create_keypoints_animation(identifier):\n",
      "    \"\"\"\n",
      "    Creates an animation of horse keypoints overlaid on video frames and saves it to disk.\n",
      "    \n",
      "    Parameters:\n",
      "    identifier: Identifier. Contains information about the video, keypoint, and config.\n",
      "    \n",
      "    Returns:\n",
      "    animation.FuncAnimation object.\n",
      "    \"\"\"\n",
      "    analysis = create_analysis(identifier)\n",
      "    n_frames = analysis.get_data_length()\n",
      "    kp_data = analysis.get_keypoints()  # Shape: (n_frames, 1, 22, 2)\n",
      "    frame_rate = analysis.get_frame_rate()\n",
      "    interval = 1000 / frame_rate  # Convert fps to interval in milliseconds\n",
      "    \n",
      "    # Get first frame to initialize image shape\n",
      "    first_image = analysis.get_scene_image(0)\n",
      "    \n",
      "    # Create figure and axis with inverted Y-axis\n",
      "    fig, ax = plt.subplots(figsize=(8, 6))\n",
      "    ax.set_xlim(0, 288)  # Image width\n",
      "    ax.set_ylim(162, 0)  # Image height, inverted Y-axis\n",
      "    ax.set_title('Horse Keypoints Over Time')\n",
      "    \n",
      "    # Initialize image and scatter plot\n",
      "    image = ax.imshow(first_image, origin='upper')\n",
      "    kp_scatter = ax.scatter([], [], c='r', s=10, label='Keypoints')\n",
      "    ax.legend()\n",
      "    \n",
      "    def animate(frame_idx):\n",
      "        # Get scene image (shape: (162, 288) or (162, 288, 3))\n",
      "        scene_image = analysis.get_scene_image(frame_idx)\n",
      "        image.set_data(scene_image)\n",
      "        \n",
      "        # Get keypoints for this frame (shape: (22, 2))\n",
      "        kp_frame = kp_data[frame_idx, 0, :, :]  # (22, 2)\n",
      "        x_coords = kp_frame[:, 0]\n",
      "        y_coords = kp_frame[:, 1]\n",
      "        \n",
      "        # Update scatter plot\n",
      "        kp_scatter.set_offsets(np.c_[x_coords, y_coords])\n",
      "        return (image, kp_scatter)\n",
      "    \n",
      "    # Create animation\n",
      "    ani = FuncAnimation(\n",
      "        fig,\n",
      "        animate,\n",
      "        frames=n_frames,\n",
      "        interval=interval,\n",
      "        blit=True,\n",
      "        cache_frame_data=False  # Memory optimization\n",
      "    )\n",
      "    \n",
      "    # Save animation to disk\n",
      "    ani.save('keypoints_animation.mp4', writer='ffmpeg')\n",
      "    plt.close()  # Clean up figure\n",
      "    return ani\n",
      "\n"
     ]
    },
    {
     "name": "stderr",
     "output_type": "stream",
     "text": [
      "INFO:httpx:HTTP Request: POST https://openrouter.ai/api/v1/chat/completions \"HTTP/1.1 200 OK\"\n"
     ]
    },
    {
     "name": "stdout",
     "output_type": "stream",
     "text": [
      "error Traceback (most recent call last):\n",
      "  File \"/Users/akshaypardhanani/Desktop/python-projects/AmadeusGPT/amadeusgpt/programs/sandbox.py\", line 350, in code_execution\n",
      "    exec(f\"result = {call_str}\", namespace)\n",
      "  File \"<string>\", line 1, in <module>\n",
      "  File \"<string>\", line 47, in create_keypoints_animation\n",
      "NameError: name 'FuncAnimation' is not defined\n",
      "\n",
      "During handling of the above exception, another exception occurred:\n",
      "\n",
      "Traceback (most recent call last):\n",
      "  File \"/Users/akshaypardhanani/Desktop/python-projects/AmadeusGPT/amadeusgpt/analysis_objects/llm.py\", line 107, in connect_gpt_oai_1\n",
      "    + response.usage.prompt_tokens\n",
      "      ^^^^^^^^^^^^^^^^^^^^^^^^^^^^\n",
      "AttributeError: 'NoneType' object has no attribute 'prompt_tokens'\n",
      "\n",
      "\n"
     ]
    },
    {
     "ename": "IndexError",
     "evalue": "list index out of range",
     "output_type": "error",
     "traceback": [
      "\u001b[31m---------------------------------------------------------------------------\u001b[39m",
      "\u001b[31mNameError\u001b[39m                                 Traceback (most recent call last)",
      "\u001b[36mFile \u001b[39m\u001b[32m~/Desktop/python-projects/AmadeusGPT/amadeusgpt/programs/sandbox.py:350\u001b[39m, in \u001b[36mSandbox.code_execution\u001b[39m\u001b[34m(self, qa_message, debug)\u001b[39m\n\u001b[32m    349\u001b[39m \u001b[38;5;28;01mtry\u001b[39;00m:\n\u001b[32m--> \u001b[39m\u001b[32m350\u001b[39m     \u001b[43mexec\u001b[49m\u001b[43m(\u001b[49m\u001b[33;43mf\u001b[39;49m\u001b[33;43m\"\u001b[39;49m\u001b[33;43mresult = \u001b[39;49m\u001b[38;5;132;43;01m{\u001b[39;49;00m\u001b[43mcall_str\u001b[49m\u001b[38;5;132;43;01m}\u001b[39;49;00m\u001b[33;43m\"\u001b[39;49m\u001b[43m,\u001b[49m\u001b[43m \u001b[49m\u001b[43mnamespace\u001b[49m\u001b[43m)\u001b[49m\n\u001b[32m    351\u001b[39m     qa_message.error_message[identifier] = \u001b[38;5;28;01mNone\u001b[39;00m\n",
      "\u001b[36mFile \u001b[39m\u001b[32m<string>:1\u001b[39m\n",
      "\u001b[36mFile \u001b[39m\u001b[32m<string>:47\u001b[39m, in \u001b[36mcreate_keypoints_animation\u001b[39m\u001b[34m(identifier)\u001b[39m\n",
      "\u001b[31mNameError\u001b[39m: name 'FuncAnimation' is not defined",
      "\nDuring handling of the above exception, another exception occurred:\n",
      "\u001b[31mIndexError\u001b[39m                                Traceback (most recent call last)",
      "\u001b[36mCell\u001b[39m\u001b[36m \u001b[39m\u001b[32mIn[11]\u001b[39m\u001b[32m, line 3\u001b[39m\n\u001b[32m      1\u001b[39m query = \u001b[33m\"\"\"\u001b[39m\u001b[33m make an animation of the horse keypoints over time. Overlap the image frame on it. Save the animation on the disk. \u001b[39m\u001b[33m\"\"\"\u001b[39m\n\u001b[32m      2\u001b[39m qa_message = amadeus.step(query)\n\u001b[32m----> \u001b[39m\u001b[32m3\u001b[39m qa_message = \u001b[43mparse_result\u001b[49m\u001b[43m(\u001b[49m\u001b[43mamadeus\u001b[49m\u001b[43m,\u001b[49m\u001b[43m \u001b[49m\u001b[43mqa_message\u001b[49m\u001b[43m)\u001b[49m\n",
      "\u001b[36mFile \u001b[39m\u001b[32m~/Desktop/python-projects/AmadeusGPT/amadeusgpt/utils/__init__.py:160\u001b[39m, in \u001b[36mparse_result\u001b[39m\u001b[34m(amadeus, qa_message, use_ipython, skip_code_execution)\u001b[39m\n\u001b[32m    158\u001b[39m sandbox = amadeus.sandbox\n\u001b[32m    159\u001b[39m \u001b[38;5;28;01mif\u001b[39;00m \u001b[38;5;129;01mnot\u001b[39;00m skip_code_execution:\n\u001b[32m--> \u001b[39m\u001b[32m160\u001b[39m     qa_message = \u001b[43msandbox\u001b[49m\u001b[43m.\u001b[49m\u001b[43mcode_execution\u001b[49m\u001b[43m(\u001b[49m\u001b[43mqa_message\u001b[49m\u001b[43m)\u001b[49m\n\u001b[32m    161\u001b[39m qa_message = sandbox.render_qa_message(qa_message)\n\u001b[32m    162\u001b[39m \u001b[38;5;28;01mif\u001b[39;00m \u001b[38;5;28mlen\u001b[39m(qa_message.out_videos) > \u001b[32m0\u001b[39m:\n",
      "\u001b[36mFile \u001b[39m\u001b[32m~/Desktop/python-projects/AmadeusGPT/amadeusgpt/programs/sandbox.py:362\u001b[39m, in \u001b[36mSandbox.code_execution\u001b[39m\u001b[34m(self, qa_message, debug)\u001b[39m\n\u001b[32m    360\u001b[39m \u001b[38;5;28;01mif\u001b[39;00m \u001b[38;5;129;01mnot\u001b[39;00m debug:\n\u001b[32m    361\u001b[39m     \u001b[38;5;28;01mreturn\u001b[39;00m qa_message\n\u001b[32m--> \u001b[39m\u001b[32m362\u001b[39m qa_message = \u001b[38;5;28;43mself\u001b[39;49m\u001b[43m.\u001b[49m\u001b[43mllms\u001b[49m\u001b[43m[\u001b[49m\u001b[33;43m\"\u001b[39;49m\u001b[33;43mself_debug\u001b[39;49m\u001b[33;43m\"\u001b[39;49m\u001b[43m]\u001b[49m\u001b[43m.\u001b[49m\u001b[43mspeak\u001b[49m\u001b[43m(\u001b[49m\u001b[43mqa_message\u001b[49m\u001b[43m)\u001b[49m\n\u001b[32m    363\u001b[39m \u001b[38;5;28mprint\u001b[39m (\u001b[33m\"\u001b[39m\u001b[33mafter self debug\u001b[39m\u001b[33m\"\u001b[39m)\n\u001b[32m    364\u001b[39m \u001b[38;5;28mprint\u001b[39m (qa_message.code)\n",
      "\u001b[36mFile \u001b[39m\u001b[32m~/Desktop/python-projects/AmadeusGPT/amadeusgpt/analysis_objects/llm.py:383\u001b[39m, in \u001b[36mSelfDebugLLM.speak\u001b[39m\u001b[34m(self, qa_message)\u001b[39m\n\u001b[32m    381\u001b[39m \u001b[38;5;28mprint\u001b[39m(text)\n\u001b[32m    382\u001b[39m pattern = \u001b[33mr\u001b[39m\u001b[33m\"\u001b[39m\u001b[33m```python(.*?)```\u001b[39m\u001b[33m\"\u001b[39m\n\u001b[32m--> \u001b[39m\u001b[32m383\u001b[39m function_code = \u001b[43mre\u001b[49m\u001b[43m.\u001b[49m\u001b[43mfindall\u001b[49m\u001b[43m(\u001b[49m\u001b[43mpattern\u001b[49m\u001b[43m,\u001b[49m\u001b[43m \u001b[49m\u001b[43mtext\u001b[49m\u001b[43m,\u001b[49m\u001b[43m \u001b[49m\u001b[43mre\u001b[49m\u001b[43m.\u001b[49m\u001b[43mDOTALL\u001b[49m\u001b[43m)\u001b[49m\u001b[43m[\u001b[49m\u001b[32;43m0\u001b[39;49m\u001b[43m]\u001b[49m\n\u001b[32m    384\u001b[39m qa_message.code = function_code\n\u001b[32m    385\u001b[39m qa_message.chain_of_thought = text\n",
      "\u001b[31mIndexError\u001b[39m: list index out of range"
     ]
    }
   ],
   "source": [
    "query = \"\"\" make an animation of the horse keypoints over time. Overlap the image frame on it. Save the animation on the disk. \"\"\"\n",
    "qa_message = amadeus.step(query)\n",
    "qa_message = parse_result(amadeus, qa_message)"
   ]
  },
  {
   "cell_type": "code",
   "execution_count": null,
   "id": "ea32c444-dffe-49dc-bd7b-79071e2a85a8",
   "metadata": {},
   "outputs": [],
   "source": []
  }
 ],
 "metadata": {
  "kernelspec": {
   "display_name": ".venv",
   "language": "python",
   "name": "python3"
  },
  "language_info": {
   "codemirror_mode": {
    "name": "ipython",
    "version": 3
   },
   "file_extension": ".py",
   "mimetype": "text/x-python",
   "name": "python",
   "nbconvert_exporter": "python",
   "pygments_lexer": "ipython3",
   "version": "3.11.13"
  },
  "widgets": {
   "application/vnd.jupyter.widget-state+json": {
    "state": {},
    "version_major": 2,
    "version_minor": 0
   }
  }
 },
 "nbformat": 4,
 "nbformat_minor": 5
}
